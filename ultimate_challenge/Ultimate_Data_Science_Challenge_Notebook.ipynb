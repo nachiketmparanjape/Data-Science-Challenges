{
 "cells": [
  {
   "cell_type": "markdown",
   "metadata": {},
   "source": [
    "# Ultimate Data Science Challenge"
   ]
  },
  {
   "cell_type": "code",
   "execution_count": 1,
   "metadata": {
    "collapsed": true
   },
   "outputs": [],
   "source": [
    "#Import Packages\n",
    "import pandas as pd\n",
    "import numpy as np\n",
    "import matplotlib.pyplot as plt\n",
    "import statsmodels.api as sm\n",
    "from datetime import timedelta\n",
    "# from dateutil.relativedelta import relativedelta\n",
    "\n",
    "%matplotlib inline"
   ]
  },
  {
   "cell_type": "code",
   "execution_count": 2,
   "metadata": {
    "collapsed": true
   },
   "outputs": [],
   "source": [
    "import json\n",
    "from pandas.io.json import json_normalize"
   ]
  },
  {
   "cell_type": "markdown",
   "metadata": {},
   "source": [
    "# Part I : Exploratory Data Analysis\n",
    "\n",
    "__Let's visualize the login counts by binning the data in 15 minutes time intervals.__\n",
    "\n",
    "Clean the data first"
   ]
  },
  {
   "cell_type": "code",
   "execution_count": 77,
   "metadata": {
    "collapsed": false
   },
   "outputs": [
    {
     "name": "stdout",
     "output_type": "stream",
     "text": [
      "93142\n",
      "datetime64[ns]\n"
     ]
    },
    {
     "data": {
      "text/html": [
       "<div>\n",
       "<table border=\"1\" class=\"dataframe\">\n",
       "  <thead>\n",
       "    <tr style=\"text-align: right;\">\n",
       "      <th></th>\n",
       "      <th>login_time</th>\n",
       "    </tr>\n",
       "  </thead>\n",
       "  <tbody>\n",
       "    <tr>\n",
       "      <th>count</th>\n",
       "      <td>93142</td>\n",
       "    </tr>\n",
       "    <tr>\n",
       "      <th>unique</th>\n",
       "      <td>92265</td>\n",
       "    </tr>\n",
       "    <tr>\n",
       "      <th>top</th>\n",
       "      <td>1970-02-12 11:16:53</td>\n",
       "    </tr>\n",
       "    <tr>\n",
       "      <th>freq</th>\n",
       "      <td>3</td>\n",
       "    </tr>\n",
       "    <tr>\n",
       "      <th>first</th>\n",
       "      <td>1970-01-01 20:12:16</td>\n",
       "    </tr>\n",
       "    <tr>\n",
       "      <th>last</th>\n",
       "      <td>1970-04-13 18:57:38</td>\n",
       "    </tr>\n",
       "  </tbody>\n",
       "</table>\n",
       "</div>"
      ],
      "text/plain": [
       "                 login_time\n",
       "count                 93142\n",
       "unique                92265\n",
       "top     1970-02-12 11:16:53\n",
       "freq                      3\n",
       "first   1970-01-01 20:12:16\n",
       "last    1970-04-13 18:57:38"
      ]
     },
     "execution_count": 77,
     "metadata": {},
     "output_type": "execute_result"
    }
   ],
   "source": [
    "#Extract the data\n",
    "df = pd.read_json('logins.json')\n",
    "print (len(df))\n",
    "print (df.login_time.dtypes)\n",
    "df.describe()"
   ]
  },
  {
   "cell_type": "code",
   "execution_count": 119,
   "metadata": {
    "collapsed": false
   },
   "outputs": [],
   "source": [
    "#Convert to timeseries and counts\n",
    "ts = pd.DataFrame(index=df.login_time,columns=['count'])\n",
    "ts['count'] = 1\n",
    "# ts.isnull().sum()"
   ]
  },
  {
   "cell_type": "code",
   "execution_count": 120,
   "metadata": {
    "collapsed": false
   },
   "outputs": [
    {
     "name": "stdout",
     "output_type": "stream",
     "text": [
      "sum of logins - 93142.0\n",
      "9788\n",
      "count    float64\n",
      "dtype: object\n",
      "Null values - count    407\n",
      "dtype: int64\n"
     ]
    },
    {
     "data": {
      "text/html": [
       "<div>\n",
       "<table border=\"1\" class=\"dataframe\">\n",
       "  <thead>\n",
       "    <tr style=\"text-align: right;\">\n",
       "      <th></th>\n",
       "      <th>count</th>\n",
       "    </tr>\n",
       "  </thead>\n",
       "  <tbody>\n",
       "    <tr>\n",
       "      <th>count</th>\n",
       "      <td>9381.000000</td>\n",
       "    </tr>\n",
       "    <tr>\n",
       "      <th>mean</th>\n",
       "      <td>9.928792</td>\n",
       "    </tr>\n",
       "    <tr>\n",
       "      <th>std</th>\n",
       "      <td>8.263146</td>\n",
       "    </tr>\n",
       "    <tr>\n",
       "      <th>min</th>\n",
       "      <td>1.000000</td>\n",
       "    </tr>\n",
       "    <tr>\n",
       "      <th>25%</th>\n",
       "      <td>4.000000</td>\n",
       "    </tr>\n",
       "    <tr>\n",
       "      <th>50%</th>\n",
       "      <td>8.000000</td>\n",
       "    </tr>\n",
       "    <tr>\n",
       "      <th>75%</th>\n",
       "      <td>14.000000</td>\n",
       "    </tr>\n",
       "    <tr>\n",
       "      <th>max</th>\n",
       "      <td>73.000000</td>\n",
       "    </tr>\n",
       "  </tbody>\n",
       "</table>\n",
       "</div>"
      ],
      "text/plain": [
       "             count\n",
       "count  9381.000000\n",
       "mean      9.928792\n",
       "std       8.263146\n",
       "min       1.000000\n",
       "25%       4.000000\n",
       "50%       8.000000\n",
       "75%      14.000000\n",
       "max      73.000000"
      ]
     },
     "execution_count": 120,
     "metadata": {},
     "output_type": "execute_result"
    }
   ],
   "source": [
    "#Aggregate to 15 minute intervals\n",
    "ts = ts.resample('15T').sum()\n",
    "\n",
    "print (\"sum of logins -\",ts['count'].sum())\n",
    "print(len(ts))\n",
    "print(ts.dtypes)\n",
    "print (\"Null values -\",ts.isnull().sum())\n",
    "ts.describe()"
   ]
  },
  {
   "cell_type": "markdown",
   "metadata": {},
   "source": [
    "## Descriptive Statistics"
   ]
  },
  {
   "cell_type": "code",
   "execution_count": 113,
   "metadata": {
    "collapsed": false
   },
   "outputs": [
    {
     "data": {
      "text/plain": [
       "<matplotlib.axes._subplots.AxesSubplot at 0xed1d668>"
      ]
     },
     "execution_count": 113,
     "metadata": {},
     "output_type": "execute_result"
    },
    {
     "data": {
      "image/png": "[encoded data removed]",
      "text/plain": [
       "<matplotlib.figure.Figure at 0xed1d940>"
      ]
     },
     "metadata": {},
     "output_type": "display_data"
    }
   ],
   "source": [
    "fig = plt.figure(figsize=(5,5))\n",
    "plt.title(\"Boxplot - Number of Logins per 15-minute intervals\")\n",
    "ts.boxplot('count')"
   ]
  },
  {
   "cell_type": "markdown",
   "metadata": {},
   "source": [
    "The median is about 8 logins per 15-minute-interval but the data is skewed according to the boxplot, with many outliers with more than 30 logins. We have to explore further to find out if there are specific times of the day when this happens.\n",
    "\n",
    "**Let's investigate for the daily variation.**\n",
    "\n",
    "To do that, we remove the date information from the data and aggregate it to the 15-minute time interval to see the aggregate daily variation."
   ]
  },
  {
   "cell_type": "code",
   "execution_count": 101,
   "metadata": {
    "collapsed": true
   },
   "outputs": [],
   "source": [
    "dailycount = pd.DataFrame.copy(ts)"
   ]
  },
  {
   "cell_type": "code",
   "execution_count": 102,
   "metadata": {
    "collapsed": false
   },
   "outputs": [
    {
     "data": {
      "text/plain": [
       "<matplotlib.text.Text at 0xed07cf8>"
      ]
     },
     "execution_count": 102,
     "metadata": {},
     "output_type": "execute_result"
    },
    {
     "data": {
      "image/png": "[encoded data removed]",
      "text/plain": [
       "<matplotlib.figure.Figure at 0xec3d9e8>"
      ]
     },
     "metadata": {},
     "output_type": "display_data"
    }
   ],
   "source": [
    "dailycount.index = dailycount.index.time\n",
    "temp = dailycount.groupby(dailycount.index).mean()\n",
    "\n",
    "fig = plt.figure(figsize=(6,4))\n",
    "plt.plot(temp)\n",
    "plt.xticks(rotation=30)\n",
    "plt.title(\"Average Daily Variation in Login Volume\")\n",
    "plt.xlabel(\"Time - 15 minute intervals\")\n",
    "plt.ylabel(\"Total Login Volume\")"
   ]
  },
  {
   "cell_type": "markdown",
   "metadata": {},
   "source": [
    "** So by observing the daily cycles, we can see that more people tend to login late at night and around the lunch-time. **"
   ]
  },
  {
   "cell_type": "code",
   "execution_count": 124,
   "metadata": {
    "collapsed": false
   },
   "outputs": [
    {
     "data": {
      "text/plain": [
       "<matplotlib.text.Text at 0x136ed5f8>"
      ]
     },
     "execution_count": 124,
     "metadata": {},
     "output_type": "execute_result"
    },
    {
     "data": {
      "text/plain": [
       "<matplotlib.figure.Figure at 0x1307a5f8>"
      ]
     },
     "metadata": {},
     "output_type": "display_data"
    },
    {
     "data": {
      "image/png": "[encoded data removed]",
      "text/plain": [
       "<matplotlib.figure.Figure at 0x12c0b358>"
      ]
     },
     "metadata": {},
     "output_type": "display_data"
    }
   ],
   "source": [
    "fig = plt.figure(figsize=(10,5))\n",
    "ts.plot() #or other function\n",
    "plt.tick_params(\n",
    "    axis='x',          # changes apply to the x-axis\n",
    "    which='both',      # both major and minor ticks are affected\n",
    "    bottom='off',      # ticks along the bottom edge are off\n",
    "    top='off',         # ticks along the top edge are off\n",
    "    labelbottom='off') # labels along the bottom edge are off\n",
    "plt.ylabel(\"Plays\")\n",
    "plt.xlabel(\"Time\")\n",
    "plt.title(\"Top 10 most active Listeners\")"
   ]
  },
  {
   "cell_type": "markdown",
   "metadata": {},
   "source": [
    "** Plotting the data as it is on 15-minute aggregation is difficult to visualize, so let's analyze the data by aggregating further in different ways. **"
   ]
  },
  {
   "cell_type": "markdown",
   "metadata": {},
   "source": [
    "## Aggregations\n",
    "\n",
    "Let's quickly visualize other levels of variations such as the following -\n",
    "\n",
    "### Day-of-the-week"
   ]
  },
  {
   "cell_type": "code",
   "execution_count": 125,
   "metadata": {
    "collapsed": false
   },
   "outputs": [
    {
     "data": {
      "text/plain": [
       "<matplotlib.text.Text at 0x13d90a58>"
      ]
     },
     "execution_count": 125,
     "metadata": {},
     "output_type": "execute_result"
    },
    {
     "data": {
      "image/png": "[encoded data removed]",
      "text/plain": [
       "<matplotlib.figure.Figure at 0x133c0cf8>"
      ]
     },
     "metadata": {},
     "output_type": "display_data"
    }
   ],
   "source": [
    "ts = ts.resample('D').sum() #Sum of all the logins in a day\n",
    "temp = ts.groupby(ts.index.dayofweek).mean() # Group by day of the week\n",
    "\n",
    "fig = plt.figure(figsize=(6,4))\n",
    "plt.bar(temp.index,list(temp['count']),color='b',alpha=0.4)\n",
    "plt.title(\"Average Daily Variation (per week) in Logins\")\n",
    "plt.xticks([i for i in range(7)],[\"Mon\",\"Tue\",\"Wed\",\"Thu\",\"Fri\",\"Sat\",\"Sun\"])\n",
    "plt.xlabel(\"Day of the Week\")\n",
    "plt.ylabel(\"Average Logins\")"
   ]
  },
  {
   "cell_type": "markdown",
   "metadata": {},
   "source": [
    "** This shows that the login count (demand) is least on Monday, which goes on increasing towards the weekend, peaks out on Saturday and reduced a little bit on Sunday. **\n",
    "\n",
    "### Day-of-month"
   ]
  },
  {
   "cell_type": "code",
   "execution_count": 126,
   "metadata": {
    "collapsed": false
   },
   "outputs": [
    {
     "data": {
      "text/plain": [
       "<matplotlib.text.Text at 0x138146a0>"
      ]
     },
     "execution_count": 126,
     "metadata": {},
     "output_type": "execute_result"
    },
    {
     "data": {
      "image/png": "[encoded data removed]",
      "text/plain": [
       "<matplotlib.figure.Figure at 0x12a72dd8>"
      ]
     },
     "metadata": {},
     "output_type": "display_data"
    }
   ],
   "source": [
    "ts = ts.resample('D').sum() #Sum of all the logins in a day\n",
    "temp = ts.groupby(ts.index.day).mean() # Group by day of the week\n",
    "\n",
    "fig = plt.figure(figsize=(12,6))\n",
    "plt.bar(temp.index,list(temp['count']),color='b',alpha=0.5)\n",
    "plt.title(\"Average Daily Variation (per month) in Logins\")\n",
    "plt.xticks([i+1 for i in range(31)],[i+1 for i in range(31)])\n",
    "plt.xlabel(\"Day-of-the-month\")\n",
    "plt.ylabel(\"Average Logins\")"
   ]
  },
  {
   "cell_type": "markdown",
   "metadata": {},
   "source": [
    "### Month-of-year"
   ]
  },
  {
   "cell_type": "code",
   "execution_count": 129,
   "metadata": {
    "collapsed": false
   },
   "outputs": [
    {
     "data": {
      "text/plain": [
       "<matplotlib.text.Text at 0x15eadcf8>"
      ]
     },
     "execution_count": 129,
     "metadata": {},
     "output_type": "execute_result"
    },
    {
     "data": {
      "image/png": "[encoded data removed]",
      "text/plain": [
       "<matplotlib.figure.Figure at 0x13adaac8>"
      ]
     },
     "metadata": {},
     "output_type": "display_data"
    }
   ],
   "source": [
    "ts = ts.resample('M').sum() #Sum of all the logins in a day\n",
    "temp = ts.groupby(ts.index.month).mean() # Group by day of the week\n",
    "\n",
    "fig = plt.figure(figsize=(6,4))\n",
    "plt.bar(temp.index,list(temp['count']),color='b',alpha=0.4)\n",
    "plt.title(\"Monthly Variation (per year) in Logins\")\n",
    "plt.xticks([i+1 for i in range(4)],[\"Jan\",\"Feb\",\"Mar\",\"Apr\"])\n",
    "plt.xlabel(\"Month\")\n",
    "plt.ylabel(\"Average Logins\")"
   ]
  },
  {
   "cell_type": "markdown",
   "metadata": {},
   "source": [
    "## Trend\n",
    "\n",
    "Now, if we aggregate on montly level and then plot the whole data, the trend become much easier to observe.\n",
    "\n",
    "### Year-by-year trend (Monthly Aggregation)"
   ]
  },
  {
   "cell_type": "code",
   "execution_count": 137,
   "metadata": {
    "collapsed": false
   },
   "outputs": [
    {
     "data": {
      "text/plain": [
       "<matplotlib.text.Text at 0x19875f98>"
      ]
     },
     "execution_count": 137,
     "metadata": {},
     "output_type": "execute_result"
    },
    {
     "data": {
      "image/png": "[encoded data removed]",
      "text/plain": [
       "<matplotlib.figure.Figure at 0x17e04e48>"
      ]
     },
     "metadata": {},
     "output_type": "display_data"
    }
   ],
   "source": [
    "temp = ts.resample('M').sum() #Sum of all the logins in a day\n",
    "\n",
    "fig = plt.figure(figsize=(6,4))\n",
    "plt.plot(temp,color='b',alpha=0.4)\n",
    "plt.xticks(rotation=15)\n",
    "plt.title(\"Monthly Variation (per year) in Logins\")\n",
    "# plt.xticks([i+1 for i in range(4)],[\"Jan\",\"Feb\",\"Mar\",\"Apr\"])\n",
    "plt.xlabel(\"Time\")\n",
    "plt.ylabel(\"Total Logins\")"
   ]
  },
  {
   "cell_type": "markdown",
   "metadata": {},
   "source": [
    "# Part II : Experiment and metrics Design\n",
    "\n",
    "### 1. What would you choose as the key measure of success of this experiment in encouraging driver partners to serve both cities, and why would you choose this metric?\n",
    "\n",
    "The obvious expected outcome of the plan would mean increase in the collection of toll, which could be used to build a good quantifiable measure of success. If there is reliable data available on the numbers of existing driver partners in each of the cities, it can be used along with the toll collection data to define a metric to measure the success.\n",
    "\n",
    "So, the measure could be\n",
    "\n",
    "*Increase in number of vehicles passing through the toll booth on both sides per week (or some other time period)*\n",
    "\n",
    "**or**\n",
    "\n",
    "*Ratio of increase in number of vehicles passing through the toll booth on both sides per week to the number of weekly active driver partners in each city*\n",
    "\n",
    "We can have separate metric for each city, and an aggregate metric as well.\n",
    "\n",
    "### 2. Describe a practical experiment you would design to compare the effectiveness of the proposed change in relation to the key measure of success.\n",
    "\n",
    "#### Experiment Overview\n",
    "\n",
    "*Assumption - Driver partners are completely exclusive to each city*\n",
    "\n",
    "Collect the data about number of vehicles passing through the toll booths in a certain period of days before and after the plan is implemented. The data can be used to perform a hypothesis test (A/B testing) -\n",
    "\n",
    "*Null Hypothesis - There is no change in the number of vehicles passing*\n",
    "\n",
    "** Important Considerations -**\n",
    "\n",
    "* While deciding the time-period for data collection\n",
    "    * Conduct two separate experiments for weekdays and weekends, one for the weekends because the cities behave similar of weekends (something we could ideally want to be always true for consistancy) and second for the weekdays because the cities behave completely complimentary on the weekends\n",
    "    * Choosing two different dates for the data collection are crutial as well. We can to account for festivals, seasons or any other spacial events and make sure to minimize the external factors that can influence our data collection to make sure that the experiment is as isolated from externalities as possible.\n",
    "    \n",
    "    \n",
    "** Take Aways from the experiment - **\n",
    "\n",
    "    If the null hypothesis is rejected by a good margin -\n",
    "\n",
    "Use the value of increase in vehicle traffic to define the metric and continue data collection to minimize the error. Finally, quantify and monitor the usefulness of the plan.\n",
    "\n",
    "    If null hypothesis cannot be rejected -\n",
    "\n",
    "We have to conclude that the plan is failed\n",
    "\n",
    "    If null hypothesis is in the grey area -\n",
    "\n",
    "Build a better statistical test (gather more data, gather more consistent data, take steps to account for environmental changes such as increase in the number of vehicles, increase in the populations and other socio-economical factors that may have an effect on vehicle traffic)"
   ]
  },
  {
   "cell_type": "markdown",
   "metadata": {},
   "source": [
    "# Predictive Analysis"
   ]
  },
  {
   "cell_type": "code",
   "execution_count": 221,
   "metadata": {
    "collapsed": false
   },
   "outputs": [],
   "source": [
    "# import data\n",
    "with open('ultimate_data_challenge.json', 'r') as datafile:\n",
    "        data = json.load(datafile)\n",
    "df = pd.DataFrame(data)\n",
    "# df.head()"
   ]
  },
  {
   "cell_type": "code",
   "execution_count": 222,
   "metadata": {
    "collapsed": false
   },
   "outputs": [],
   "source": [
    "#convert dtype to datetime\n",
    "df['last_trip_date'] = pd.to_datetime(df.last_trip_date)\n",
    "df['signup_date'] = pd.to_datetime(df.signup_date)"
   ]
  },
  {
   "cell_type": "code",
   "execution_count": 212,
   "metadata": {
    "collapsed": false
   },
   "outputs": [
    {
     "data": {
      "text/plain": [
       "<matplotlib.axes._subplots.AxesSubplot at 0x20a900f0>"
      ]
     },
     "execution_count": 212,
     "metadata": {},
     "output_type": "execute_result"
    },
    {
     "data": {
      "image/png": "[encoded data removed]",
      "text/plain": [
       "<matplotlib.figure.Figure at 0xaae69e8>"
      ]
     },
     "metadata": {},
     "output_type": "display_data"
    }
   ],
   "source": [
    "df.last_trip_date.hist()"
   ]
  },
  {
   "cell_type": "markdown",
   "metadata": {},
   "source": [
    "## Defining 'Retention'\n",
    "\n",
    "Regarding the definition of retention -\n",
    "\n",
    "Let's refer to the given definition (user is considered up to 30 days after the last login) and use it to define a binary 'retention' class based on given data. As we are only given the information about 'last_trip_date' and 'signup_date', I used the following approach to define retention based on the 30-day criteria -\n",
    "\n",
    "1. **Defined 'last_activity_date' as last_trip_days + 30 days. For example, if a user took a trip on August 1st 2017, he will be considered as an active user until 30 days after August 1st.**\n",
    "\n",
    "2. **Then, I use this definition to check if the user was 'active' in their 6th month, by taking timedelta and assign a binary class using the 6 month threshold.**"
   ]
  },
  {
   "cell_type": "code",
   "execution_count": 223,
   "metadata": {
    "collapsed": false
   },
   "outputs": [
    {
     "data": {
      "text/plain": [
       "[1, 0, 0, 1, 0, 1, 0, 0, 0, 0]"
      ]
     },
     "execution_count": 223,
     "metadata": {},
     "output_type": "execute_result"
    }
   ],
   "source": [
    "retention = []\n",
    "df['last_activity_date'] = 30\n",
    "df['last_activity_date'] = df['last_trip_date'] + df['last_activity_date'].values.astype(\"timedelta64[D]\")\n",
    "df[['last_activity_date','last_trip_date']].head()\n",
    "\n",
    "for i in range(len(df)):\n",
    "    \n",
    "    if df.last_activity_date.iloc[i] - df.signup_date.iloc[i] <= pd.Timedelta('150d'):\n",
    "        retention.append(0)\n",
    "    else:\n",
    "        retention.append(1)\n",
    "\n",
    "retention[:10]"
   ]
  },
  {
   "cell_type": "markdown",
   "metadata": {},
   "source": [
    "** Drop the Dates **"
   ]
  },
  {
   "cell_type": "code",
   "execution_count": 224,
   "metadata": {
    "collapsed": false
   },
   "outputs": [],
   "source": [
    "df['retention'] = retention\n",
    "df = df.drop('last_activity_date',axis=1)"
   ]
  },
  {
   "cell_type": "code",
   "execution_count": 225,
   "metadata": {
    "collapsed": false
   },
   "outputs": [],
   "source": [
    "df = df.drop(['last_trip_date','signup_date'],axis=1)"
   ]
  },
  {
   "cell_type": "markdown",
   "metadata": {},
   "source": [
    "#### Types of features"
   ]
  },
  {
   "cell_type": "code",
   "execution_count": 226,
   "metadata": {
    "collapsed": false
   },
   "outputs": [],
   "source": [
    "categorical = ['city','phone']\n",
    "numerical = ['avg_dist','avg_rating_by_driver','avg_rating_of_driver','avg_surge','surge_pct','trips_in_first_30_days','weekday_pct']\n",
    "boolean = ['ultimate_black_user']"
   ]
  },
  {
   "cell_type": "markdown",
   "metadata": {},
   "source": [
    "### Null Values\n",
    "Let's skip imputation and delete the rows with missing values for convinience"
   ]
  },
  {
   "cell_type": "code",
   "execution_count": 227,
   "metadata": {
    "collapsed": false
   },
   "outputs": [
    {
     "name": "stdout",
     "output_type": "stream",
     "text": [
      "avg_dist  -  0\n",
      "avg_dist  -  0 \n",
      "\n",
      "avg_rating_by_driver  -  201\n",
      "avg_rating_by_driver  -  0 \n",
      "\n",
      "avg_rating_of_driver  -  8055\n",
      "avg_rating_of_driver  -  0 \n",
      "\n",
      "avg_surge  -  0\n",
      "avg_surge  -  0 \n",
      "\n",
      "city  -  0\n",
      "city  -  0 \n",
      "\n",
      "phone  -  299\n",
      "phone  -  0 \n",
      "\n",
      "surge_pct  -  0\n",
      "surge_pct  -  0 \n",
      "\n",
      "trips_in_first_30_days  -  0\n",
      "trips_in_first_30_days  -  0 \n",
      "\n",
      "ultimate_black_user  -  0\n",
      "ultimate_black_user  -  0 \n",
      "\n",
      "weekday_pct  -  0\n",
      "weekday_pct  -  0 \n",
      "\n",
      "retention  -  0\n",
      "retention  -  0 \n",
      "\n"
     ]
    }
   ],
   "source": [
    "cols = list(df.columns)\n",
    "for column in cols:\n",
    "    missing_count = df[column].isnull().values.sum()\n",
    "    print (column, \" - \", missing_count)\n",
    "\n",
    "    if missing_count > 0:\n",
    "        null_cols.append(column)\n",
    "        df = df.loc[df[column].notnull()]\n",
    "    \n",
    "    missing_count = df[column].isnull().values.sum()\n",
    "    print (column, \" - \", missing_count,'\\n')"
   ]
  },
  {
   "cell_type": "markdown",
   "metadata": {},
   "source": [
    "### Encoding Categorical and Boolean Variables"
   ]
  },
  {
   "cell_type": "code",
   "execution_count": 228,
   "metadata": {
    "collapsed": false
   },
   "outputs": [
    {
     "name": "stdout",
     "output_type": "stream",
     "text": [
      "Winterfell        19161\n",
      "Astapor           13509\n",
      "King's Landing     8775\n",
      "Name: city, dtype: int64\n",
      "iPhone     29352\n",
      "Android    12093\n",
      "Name: phone, dtype: int64\n"
     ]
    }
   ],
   "source": [
    "for i in categorical:\n",
    "    print (df[i].value_counts())"
   ]
  },
  {
   "cell_type": "code",
   "execution_count": 230,
   "metadata": {
    "collapsed": false
   },
   "outputs": [],
   "source": [
    "from sklearn.preprocessing import LabelEncoder\n",
    "\n",
    "#Categorical Encoding\n",
    "\n",
    "df = df.loc[(df.phone == 'iPhone') | (df.phone == 'Android')] # clean phone column\n",
    "    \n",
    "    \n",
    "for column in categorical:\n",
    "    \n",
    "    le = LabelEncoder()\n",
    "    df[column] = le.fit_transform(df[column])"
   ]
  },
  {
   "cell_type": "code",
   "execution_count": 231,
   "metadata": {
    "collapsed": false
   },
   "outputs": [],
   "source": [
    "le = LabelEncoder() #boolean encoding\n",
    "df['ultimate_black_user'] = le.fit_transform(df['ultimate_black_user'])"
   ]
  },
  {
   "cell_type": "markdown",
   "metadata": {},
   "source": [
    "### Train Test Split"
   ]
  },
  {
   "cell_type": "code",
   "execution_count": 196,
   "metadata": {
    "collapsed": true
   },
   "outputs": [],
   "source": [
    "features = df.drop('retention',axis=1)"
   ]
  },
  {
   "cell_type": "code",
   "execution_count": 197,
   "metadata": {
    "collapsed": false
   },
   "outputs": [],
   "source": [
    "from sklearn.model_selection import train_test_split\n",
    "X, Xtest, y, ytest = train_test_split(features, df['retention'],random_state=1,test_size=0.7)"
   ]
  },
  {
   "cell_type": "markdown",
   "metadata": {},
   "source": [
    "### Define Evaluation Functions"
   ]
  },
  {
   "cell_type": "code",
   "execution_count": 198,
   "metadata": {
    "collapsed": true
   },
   "outputs": [],
   "source": [
    "from sklearn.metrics import classification_report, roc_curve, auc, confusion_matrix, accuracy_score, recall_score"
   ]
  },
  {
   "cell_type": "code",
   "execution_count": 199,
   "metadata": {
    "collapsed": true
   },
   "outputs": [],
   "source": [
    "def roccurve(trainedevaluator,plotting=True,X=X,y=y,Xtest=Xtest,ytest=ytest):\n",
    "    \"\"\" Plots ROC Curve and return area under the curve \"\"\"\n",
    "    \n",
    "    #fit\n",
    "    trainedevaluator.fit(X,y)\n",
    "    \n",
    "    #Find probabilities\n",
    "    preds = trainedevaluator.predict_proba(Xtest)[:,1]\n",
    "    \n",
    "    #ROC\n",
    "    fpr, tpr, _ = roc_curve(ytest, preds)\n",
    "    \n",
    "    #Area Under the curve\n",
    "    area = auc(fpr,tpr)\n",
    "    \n",
    "    #Plot\n",
    "    if plotting == True:\n",
    "        plt.figure(figsize=(6,6))\n",
    "        plt.xlim([0,1])\n",
    "        plt.ylim([0,1])\n",
    "        plt.title(\"ROC\",fontsize=12)\n",
    "        plt.xlabel(\"False Positive Rate\")\n",
    "        plt.ylabel(\"Ttrue Positive Rate\")\n",
    "        plt.plot(fpr,tpr)\n",
    "        plt.plot([0,1],[0,1],'--',alpha=0.5)\n",
    "    \n",
    "    return area"
   ]
  },
  {
   "cell_type": "code",
   "execution_count": 200,
   "metadata": {
    "collapsed": true
   },
   "outputs": [],
   "source": [
    "def prediction(clf,X=X,y=y,Xtest=Xtest,ytest=ytest):\n",
    "    clf.fit(X.values, y.values)\n",
    "    preds = clf.predict(Xtest)\n",
    "    cm = confusion_matrix(ytest, preds)\n",
    "    \n",
    "    print (\"\\nClassification Report on the Training data -\\n\", classification_report(y, clf.predict(X)))\n",
    "    \n",
    "    print(\"Accuracy Score =\", accuracy_score(ytest, preds))\n",
    "    print(\"Recall Score = \", recall_score(ytest,preds))\n",
    "    \n",
    "    print(\"\\nConfusion Matrix -\\n\",cm)\n",
    "    print(\"\\nClassification Report -\\n\",classification_report(ytest, preds))\n",
    "    try:\n",
    "        print(\"Area under the ROC curve = {}\".format(roccurve(clf)))\n",
    "    except AttributeError:\n",
    "        print (\"Cannot draw ROC - predict_proba is not an attribute\")"
   ]
  },
  {
   "cell_type": "markdown",
   "metadata": {},
   "source": [
    "## Prediction"
   ]
  },
  {
   "cell_type": "code",
   "execution_count": 132,
   "metadata": {
    "collapsed": true
   },
   "outputs": [],
   "source": [
    "from sklearn.ensemble import RandomForestClassifier"
   ]
  },
  {
   "cell_type": "code",
   "execution_count": 207,
   "metadata": {
    "collapsed": false
   },
   "outputs": [
    {
     "name": "stdout",
     "output_type": "stream",
     "text": [
      "\n",
      "Classification Report on the Training data -\n",
      "              precision    recall  f1-score   support\n",
      "\n",
      "          0       0.75      0.80      0.77      6360\n",
      "          1       0.77      0.72      0.74      6073\n",
      "\n",
      "avg / total       0.76      0.76      0.76     12433\n",
      "\n",
      "Accuracy Score = 0.75041362195\n",
      "Recall Score =  0.700511218404\n",
      "\n",
      "Confusion Matrix -\n",
      " [[11905  3023]\n",
      " [ 4218  9866]]\n",
      "\n",
      "Classification Report -\n",
      "              precision    recall  f1-score   support\n",
      "\n",
      "          0       0.74      0.80      0.77     14928\n",
      "          1       0.77      0.70      0.73     14084\n",
      "\n",
      "avg / total       0.75      0.75      0.75     29012\n",
      "\n",
      "Area under the ROC curve = 0.8312343155125289\n"
     ]
    },
    {
     "data": {
      "image/png": "[encoded data removed]",
      "text/plain": [
       "<matplotlib.figure.Figure at 0xb067cf8>"
      ]
     },
     "metadata": {},
     "output_type": "display_data"
    }
   ],
   "source": [
    "#Initial Run\n",
    "rf = RandomForestClassifier(n_estimators=100, min_samples_split=200)\n",
    "rf.fit(X,y)\n",
    "\n",
    "prediction(rf)"
   ]
  },
  {
   "cell_type": "markdown",
   "metadata": {},
   "source": [
    "### Feature Importances"
   ]
  },
  {
   "cell_type": "code",
   "execution_count": 208,
   "metadata": {
    "collapsed": false
   },
   "outputs": [
    {
     "data": {
      "text/plain": [
       "(-1, 10)"
      ]
     },
     "execution_count": 208,
     "metadata": {},
     "output_type": "execute_result"
    },
    {
     "data": {
      "image/png": "[encoded data removed]",
      "text/plain": [
       "<matplotlib.figure.Figure at 0xa676438>"
      ]
     },
     "metadata": {},
     "output_type": "display_data"
    }
   ],
   "source": [
    "predictors = list(features.columns)\n",
    "\n",
    "importances=rf.feature_importances_\n",
    "\n",
    "indices = np.argsort(importances)[::-1]\n",
    "\n",
    "sorted_important_features=[]\n",
    "for i in indices:\n",
    "    sorted_important_features.append(predictors[i])\n",
    "    \n",
    "plt.figure()\n",
    "plt.title(\"Feature Importances By Random Forest Model\")\n",
    "plt.bar(range(np.size(predictors)), importances[indices],\n",
    "       color=\"r\")\n",
    "plt.xticks(range(np.size(predictors)), sorted_important_features, rotation='vertical')\n",
    "\n",
    "plt.xlim([-1, np.size(predictors)])"
   ]
  },
  {
   "cell_type": "markdown",
   "metadata": {},
   "source": [
    "We have been able to predict retention in the 6th month at an accuracy of 75%. This can be improved further.\n",
    "\n",
    "We also have found the top features that help the prediction which are displayed in the bar chart above, and the top 3 factors are as follows -\n",
    "\n",
    "* Average Rating given to the rider by driver - We can say that better riders are more likely to stay\n",
    "* Percent of user's trips during workday - We can conclude that people who use rides presumably to go to work are likely to stay\n",
    "* Percent of trips taken with surge multiplyer - We can safely assume that people who experience surge pricing more frequently are less likely to stay"
   ]
  }
 ],
 "metadata": {
  "kernelspec": {
   "display_name": "Python 3",
   "language": "python",
   "name": "python3"
  },
  "language_info": {
   "codemirror_mode": {
    "name": "ipython",
    "version": 3
   },
   "file_extension": ".py",
   "mimetype": "text/x-python",
   "name": "python",
   "nbconvert_exporter": "python",
   "pygments_lexer": "ipython3",
   "version": "3.6.0"
  }
 },
 "nbformat": 4,
 "nbformat_minor": 2
}
