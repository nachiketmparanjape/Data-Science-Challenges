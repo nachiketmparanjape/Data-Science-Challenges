{
 "cells": [
  {
   "cell_type": "markdown",
   "metadata": {},
   "source": [
    "## Import Data and Set the Right DataTypes"
   ]
  },
  {
   "cell_type": "code",
   "execution_count": 133,
   "metadata": {
    "collapsed": false
   },
   "outputs": [],
   "source": [
    "#Import Packages\n",
    "import pandas as pd\n",
    "import numpy as np\n",
    "import matplotlib.pyplot as plt\n",
    "import statsmodels.api as sm\n",
    "from datetime import timedelta\n",
    "\n",
    "# from dateutil.relativedelta import relativedelta\n",
    "\n",
    "%matplotlib inline\n",
    "\n",
    "# import sklearn"
   ]
  },
  {
   "cell_type": "code",
   "execution_count": 179,
   "metadata": {
    "collapsed": false
   },
   "outputs": [],
   "source": [
    "# Import Data\n",
    "\n",
    "uedf = pd.read_csv(\"takehome_user_engagement.csv\")\n",
    "udf = pd.read_csv(\"takehome_users.csv\",encoding = \"ISO-8859-1\")"
   ]
  },
  {
   "cell_type": "code",
   "execution_count": 180,
   "metadata": {
    "collapsed": false
   },
   "outputs": [
    {
     "name": "stdout",
     "output_type": "stream",
     "text": [
      "datetime64[ns]\n"
     ]
    }
   ],
   "source": [
    "# Convert UNIX datetime to pandas datetime\n",
    "# print(udf['last_session_creation_time'].describe())\n",
    "udf['last_session_creation_time'] = pd.to_datetime(udf['last_session_creation_time'], unit='ms')\n",
    "print (udf.last_session_creation_time.dtypes)"
   ]
  },
  {
   "cell_type": "code",
   "execution_count": 181,
   "metadata": {
    "collapsed": false
   },
   "outputs": [
    {
     "data": {
      "text/plain": [
       "dtype('<M8[ns]')"
      ]
     },
     "execution_count": 181,
     "metadata": {},
     "output_type": "execute_result"
    }
   ],
   "source": [
    "# Creation Time\n",
    "udf['creation_time'] = pd.to_datetime(udf['creation_time'])\n",
    "udf.creation_time.dtypes"
   ]
  },
  {
   "cell_type": "code",
   "execution_count": 184,
   "metadata": {
    "collapsed": false
   },
   "outputs": [
    {
     "data": {
      "text/plain": [
       "dtype('<M8[ns]')"
      ]
     },
     "execution_count": 184,
     "metadata": {},
     "output_type": "execute_result"
    }
   ],
   "source": [
    "uedf['time_stamp'] = pd.to_datetime(uedf['time_stamp'])\n",
    "uedf.time_stamp.dtypes"
   ]
  },
  {
   "cell_type": "code",
   "execution_count": 185,
   "metadata": {
    "collapsed": false
   },
   "outputs": [
    {
     "data": {
      "text/html": [
       "<div>\n",
       "<style>\n",
       "    .dataframe thead tr:only-child th {\n",
       "        text-align: right;\n",
       "    }\n",
       "\n",
       "    .dataframe thead th {\n",
       "        text-align: left;\n",
       "    }\n",
       "\n",
       "    .dataframe tbody tr th {\n",
       "        vertical-align: top;\n",
       "    }\n",
       "</style>\n",
       "<table border=\"1\" class=\"dataframe\">\n",
       "  <thead>\n",
       "    <tr style=\"text-align: right;\">\n",
       "      <th></th>\n",
       "      <th>object_id</th>\n",
       "      <th>creation_time</th>\n",
       "      <th>name</th>\n",
       "      <th>email</th>\n",
       "      <th>creation_source</th>\n",
       "      <th>last_session_creation_time</th>\n",
       "      <th>opted_in_to_mailing_list</th>\n",
       "      <th>enabled_for_marketing_drip</th>\n",
       "      <th>org_id</th>\n",
       "      <th>invited_by_user_id</th>\n",
       "    </tr>\n",
       "  </thead>\n",
       "  <tbody>\n",
       "    <tr>\n",
       "      <th>0</th>\n",
       "      <td>1</td>\n",
       "      <td>2014-04-22 03:53:30</td>\n",
       "      <td>Clausen August</td>\n",
       "      <td>AugustCClausen@yahoo.com</td>\n",
       "      <td>GUEST_INVITE</td>\n",
       "      <td>1970-01-17 04:22:18.810</td>\n",
       "      <td>1</td>\n",
       "      <td>0</td>\n",
       "      <td>11</td>\n",
       "      <td>10803.0</td>\n",
       "    </tr>\n",
       "    <tr>\n",
       "      <th>1</th>\n",
       "      <td>2</td>\n",
       "      <td>2013-11-15 03:45:04</td>\n",
       "      <td>Poole Matthew</td>\n",
       "      <td>MatthewPoole@gustr.com</td>\n",
       "      <td>ORG_INVITE</td>\n",
       "      <td>1970-01-17 03:50:37.504</td>\n",
       "      <td>0</td>\n",
       "      <td>0</td>\n",
       "      <td>1</td>\n",
       "      <td>316.0</td>\n",
       "    </tr>\n",
       "    <tr>\n",
       "      <th>2</th>\n",
       "      <td>3</td>\n",
       "      <td>2013-03-19 23:14:52</td>\n",
       "      <td>Bottrill Mitchell</td>\n",
       "      <td>MitchellBottrill@gustr.com</td>\n",
       "      <td>ORG_INVITE</td>\n",
       "      <td>1970-01-16 18:48:54.892</td>\n",
       "      <td>0</td>\n",
       "      <td>0</td>\n",
       "      <td>94</td>\n",
       "      <td>1525.0</td>\n",
       "    </tr>\n",
       "    <tr>\n",
       "      <th>3</th>\n",
       "      <td>4</td>\n",
       "      <td>2013-05-21 08:09:28</td>\n",
       "      <td>Clausen Nicklas</td>\n",
       "      <td>NicklasSClausen@yahoo.com</td>\n",
       "      <td>GUEST_INVITE</td>\n",
       "      <td>1970-01-16 20:20:10.168</td>\n",
       "      <td>0</td>\n",
       "      <td>0</td>\n",
       "      <td>1</td>\n",
       "      <td>5151.0</td>\n",
       "    </tr>\n",
       "    <tr>\n",
       "      <th>4</th>\n",
       "      <td>5</td>\n",
       "      <td>2013-01-17 10:14:20</td>\n",
       "      <td>Raw Grace</td>\n",
       "      <td>GraceRaw@yahoo.com</td>\n",
       "      <td>GUEST_INVITE</td>\n",
       "      <td>1970-01-16 17:27:29.660</td>\n",
       "      <td>0</td>\n",
       "      <td>0</td>\n",
       "      <td>193</td>\n",
       "      <td>5240.0</td>\n",
       "    </tr>\n",
       "  </tbody>\n",
       "</table>\n",
       "</div>"
      ],
      "text/plain": [
       "   object_id       creation_time               name  \\\n",
       "0          1 2014-04-22 03:53:30     Clausen August   \n",
       "1          2 2013-11-15 03:45:04      Poole Matthew   \n",
       "2          3 2013-03-19 23:14:52  Bottrill Mitchell   \n",
       "3          4 2013-05-21 08:09:28    Clausen Nicklas   \n",
       "4          5 2013-01-17 10:14:20          Raw Grace   \n",
       "\n",
       "                        email creation_source last_session_creation_time  \\\n",
       "0    AugustCClausen@yahoo.com    GUEST_INVITE    1970-01-17 04:22:18.810   \n",
       "1      MatthewPoole@gustr.com      ORG_INVITE    1970-01-17 03:50:37.504   \n",
       "2  MitchellBottrill@gustr.com      ORG_INVITE    1970-01-16 18:48:54.892   \n",
       "3   NicklasSClausen@yahoo.com    GUEST_INVITE    1970-01-16 20:20:10.168   \n",
       "4          GraceRaw@yahoo.com    GUEST_INVITE    1970-01-16 17:27:29.660   \n",
       "\n",
       "   opted_in_to_mailing_list  enabled_for_marketing_drip  org_id  \\\n",
       "0                         1                           0      11   \n",
       "1                         0                           0       1   \n",
       "2                         0                           0      94   \n",
       "3                         0                           0       1   \n",
       "4                         0                           0     193   \n",
       "\n",
       "   invited_by_user_id  \n",
       "0             10803.0  \n",
       "1               316.0  \n",
       "2              1525.0  \n",
       "3              5151.0  \n",
       "4              5240.0  "
      ]
     },
     "execution_count": 185,
     "metadata": {},
     "output_type": "execute_result"
    }
   ],
   "source": [
    "udf.head()"
   ]
  },
  {
   "cell_type": "markdown",
   "metadata": {},
   "source": [
    "## Adopted User\n",
    "\n",
    "** A user who has logged into the product on three separate days in at least one seven day period **\n",
    "\n",
    "We can define adpoted user using the following definition and create a corresponding binary class column representing whether a user is 'adopted' or not (1 or 0)"
   ]
  },
  {
   "cell_type": "code",
   "execution_count": 183,
   "metadata": {
    "collapsed": false
   },
   "outputs": [
    {
     "data": {
      "text/html": [
       "<div>\n",
       "<style>\n",
       "    .dataframe thead tr:only-child th {\n",
       "        text-align: right;\n",
       "    }\n",
       "\n",
       "    .dataframe thead th {\n",
       "        text-align: left;\n",
       "    }\n",
       "\n",
       "    .dataframe tbody tr th {\n",
       "        vertical-align: top;\n",
       "    }\n",
       "</style>\n",
       "<table border=\"1\" class=\"dataframe\">\n",
       "  <thead>\n",
       "    <tr style=\"text-align: right;\">\n",
       "      <th></th>\n",
       "      <th></th>\n",
       "      <th>visited</th>\n",
       "    </tr>\n",
       "    <tr>\n",
       "      <th>user_id</th>\n",
       "      <th>time_stamp</th>\n",
       "      <th></th>\n",
       "    </tr>\n",
       "  </thead>\n",
       "  <tbody>\n",
       "    <tr>\n",
       "      <th>1</th>\n",
       "      <th>2014-04-22 03:53:30</th>\n",
       "      <td>1</td>\n",
       "    </tr>\n",
       "    <tr>\n",
       "      <th rowspan=\"14\" valign=\"top\">2</th>\n",
       "      <th>2013-11-15 03:45:04</th>\n",
       "      <td>1</td>\n",
       "    </tr>\n",
       "    <tr>\n",
       "      <th>2013-11-29 03:45:04</th>\n",
       "      <td>1</td>\n",
       "    </tr>\n",
       "    <tr>\n",
       "      <th>2013-12-09 03:45:04</th>\n",
       "      <td>1</td>\n",
       "    </tr>\n",
       "    <tr>\n",
       "      <th>2013-12-25 03:45:04</th>\n",
       "      <td>1</td>\n",
       "    </tr>\n",
       "    <tr>\n",
       "      <th>2013-12-31 03:45:04</th>\n",
       "      <td>1</td>\n",
       "    </tr>\n",
       "    <tr>\n",
       "      <th>2014-01-08 03:45:04</th>\n",
       "      <td>1</td>\n",
       "    </tr>\n",
       "    <tr>\n",
       "      <th>2014-02-03 03:45:04</th>\n",
       "      <td>1</td>\n",
       "    </tr>\n",
       "    <tr>\n",
       "      <th>2014-02-08 03:45:04</th>\n",
       "      <td>1</td>\n",
       "    </tr>\n",
       "    <tr>\n",
       "      <th>2014-02-09 03:45:04</th>\n",
       "      <td>1</td>\n",
       "    </tr>\n",
       "    <tr>\n",
       "      <th>2014-02-13 03:45:04</th>\n",
       "      <td>1</td>\n",
       "    </tr>\n",
       "    <tr>\n",
       "      <th>2014-02-16 03:45:04</th>\n",
       "      <td>1</td>\n",
       "    </tr>\n",
       "    <tr>\n",
       "      <th>2014-03-09 03:45:04</th>\n",
       "      <td>1</td>\n",
       "    </tr>\n",
       "    <tr>\n",
       "      <th>2014-03-13 03:45:04</th>\n",
       "      <td>1</td>\n",
       "    </tr>\n",
       "    <tr>\n",
       "      <th>2014-03-31 03:45:04</th>\n",
       "      <td>1</td>\n",
       "    </tr>\n",
       "  </tbody>\n",
       "</table>\n",
       "</div>"
      ],
      "text/plain": [
       "                             visited\n",
       "user_id time_stamp                  \n",
       "1       2014-04-22 03:53:30        1\n",
       "2       2013-11-15 03:45:04        1\n",
       "        2013-11-29 03:45:04        1\n",
       "        2013-12-09 03:45:04        1\n",
       "        2013-12-25 03:45:04        1\n",
       "        2013-12-31 03:45:04        1\n",
       "        2014-01-08 03:45:04        1\n",
       "        2014-02-03 03:45:04        1\n",
       "        2014-02-08 03:45:04        1\n",
       "        2014-02-09 03:45:04        1\n",
       "        2014-02-13 03:45:04        1\n",
       "        2014-02-16 03:45:04        1\n",
       "        2014-03-09 03:45:04        1\n",
       "        2014-03-13 03:45:04        1\n",
       "        2014-03-31 03:45:04        1"
      ]
     },
     "execution_count": 183,
     "metadata": {},
     "output_type": "execute_result"
    }
   ],
   "source": [
    "# Group the uedf by user\n",
    "userlogins = uedf.pivot_table(\"visited\",[\"user_id\",\"time_stamp\"])\n",
    "userlogins.loc[[1,2]]"
   ]
  },
  {
   "cell_type": "code",
   "execution_count": 186,
   "metadata": {
    "collapsed": false
   },
   "outputs": [
    {
     "data": {
      "text/plain": [
       "[1, 2, 3, 4, 5, 6, 7, 8, 9, 10]"
      ]
     },
     "execution_count": 186,
     "metadata": {},
     "output_type": "execute_result"
    }
   ],
   "source": [
    "# Let's take user_ids from udf\n",
    "userids = list(udf.object_id)\n",
    "userids[:10]"
   ]
  },
  {
   "cell_type": "code",
   "execution_count": 190,
   "metadata": {
    "collapsed": false
   },
   "outputs": [],
   "source": [
    "adopted = dict.fromkeys(userids) #initialize dictionary with user_id keys\n",
    "\n",
    "# Now let's go through every user in pivoted df to check if he's 'adopoted or not'\n",
    "\n",
    "for userid in userids:\n",
    "    \n",
    "    adopted[userid] = 0 #User is not 'adopted' is the default\n",
    "    \n",
    "    try: # userlogins.loc[userid] raises exception if there are no logins. This is to handle users with no logins.\n",
    "    \n",
    "        logins = userlogins.loc[userid]\n",
    "\n",
    "\n",
    "            # Check total logins\n",
    "    #         print (len(logins))\n",
    "        if len(logins) >= 3:\n",
    "#             print (\"pass\")\n",
    "\n",
    "            # Check if there are at least 3 logins within the span of 7 days or less        \n",
    "            for i in range(2, len(logins)):\n",
    "                td = logins.index[i] - logins.index[i-2] # Timedelta between 3 consecutive logins\n",
    "                if td <= pd.Timedelta('7 days'): # User is 'adopted' if td is less than or equal to 7 days.\n",
    "                    adopted[userid] = 1\n",
    "    except:\n",
    "        pass"
   ]
  },
  {
   "cell_type": "code",
   "execution_count": 191,
   "metadata": {
    "collapsed": false
   },
   "outputs": [
    {
     "data": {
      "text/plain": [
       "0    10344\n",
       "1     1656\n",
       "Name: Adopted, dtype: int64"
      ]
     },
     "execution_count": 191,
     "metadata": {},
     "output_type": "execute_result"
    }
   ],
   "source": [
    "# Add the adoped column to udf\n",
    "\n",
    "udf['Adopted'] = udf['object_id'].map(adopted)\n",
    "udf['Adopted'].value_counts()\n",
    "# udf.head()"
   ]
  },
  {
   "cell_type": "markdown",
   "metadata": {},
   "source": [
    "# Supervised Leaning - Classification\n",
    "\n",
    "Now that we have defined a 'y' column for adoption, we can run a supervised learning algorithm prediction.\n",
    "\n",
    "**Features available are as follows -**\n",
    "\n",
    "name, email, creation_source, creation_time, last_session_creation_time, opted_in_to_mailing_list, enabled_for_marketing_drip, org_id, invited_by_user_id"
   ]
  },
  {
   "cell_type": "markdown",
   "metadata": {},
   "source": [
    "### Null Values\n",
    "Let's skip imputation and delete the rows with missing values for convinience"
   ]
  },
  {
   "cell_type": "code",
   "execution_count": 192,
   "metadata": {
    "collapsed": false
   },
   "outputs": [
    {
     "name": "stdout",
     "output_type": "stream",
     "text": [
      "object_id  -  0\n",
      "object_id  -  0 \n",
      "\n",
      "creation_time  -  0\n",
      "creation_time  -  0 \n",
      "\n",
      "name  -  0\n",
      "name  -  0 \n",
      "\n",
      "email  -  0\n",
      "email  -  0 \n",
      "\n",
      "creation_source  -  0\n",
      "creation_source  -  0 \n",
      "\n",
      "last_session_creation_time  -  3177\n",
      "last_session_creation_time  -  3177 \n",
      "\n",
      "opted_in_to_mailing_list  -  0\n",
      "opted_in_to_mailing_list  -  0 \n",
      "\n",
      "enabled_for_marketing_drip  -  0\n",
      "enabled_for_marketing_drip  -  0 \n",
      "\n",
      "org_id  -  0\n",
      "org_id  -  0 \n",
      "\n",
      "invited_by_user_id  -  5583\n",
      "invited_by_user_id  -  5583 \n",
      "\n",
      "Adopted  -  0\n",
      "Adopted  -  0 \n",
      "\n"
     ]
    }
   ],
   "source": [
    "cols = list(udf.columns)\n",
    "for column in cols:\n",
    "    missing_count = udf[column].isnull().values.sum()\n",
    "    print (column, \" - \", missing_count)\n",
    "\n",
    "    if missing_count > 0:\n",
    "#         null_cols.append(column)\n",
    "#         udf = udf.loc[udf[column].notnull()]\n",
    "        pass\n",
    "    \n",
    "    missing_count = udf[column].isnull().values.sum()\n",
    "    print (column, \" - \", missing_count,'\\n')"
   ]
  },
  {
   "cell_type": "code",
   "execution_count": 193,
   "metadata": {
    "collapsed": false
   },
   "outputs": [
    {
     "name": "stderr",
     "output_type": "stream",
     "text": [
      "C:\\Users\\Nachiket\\Anaconda3\\lib\\site-packages\\pandas\\core\\indexing.py:179: SettingWithCopyWarning: \n",
      "A value is trying to be set on a copy of a slice from a DataFrame\n",
      "\n",
      "See the caveats in the documentation: http://pandas.pydata.org/pandas-docs/stable/indexing.html#indexing-view-versus-copy\n",
      "  self._setitem_with_indexer(indexer, value)\n"
     ]
    }
   ],
   "source": [
    "# Change NaNs for invited by user id to 0\n",
    "udf.invited_by_user_id.loc[udf.invited_by_user_id.isnull()] = 0"
   ]
  },
  {
   "cell_type": "code",
   "execution_count": 194,
   "metadata": {
    "collapsed": false
   },
   "outputs": [
    {
     "name": "stdout",
     "output_type": "stream",
     "text": [
      " How many of those who do not have the last session information are adopted? - 0\n"
     ]
    }
   ],
   "source": [
    "#Last Session Creation Time\n",
    "print ( \" How many of those who do not have the last session information are adopted? -\",len(udf[['last_session_creation_time','Adopted']].loc[(udf.last_session_creation_time.isnull()) & (udf.Adopted == 1)]))"
   ]
  },
  {
   "cell_type": "markdown",
   "metadata": {},
   "source": [
    "This makes sense as these users might have never logged in, and hence, they aren't adopted."
   ]
  },
  {
   "cell_type": "markdown",
   "metadata": {},
   "source": [
    "## Let's design some new variables\n",
    "\n",
    "### A binary classed based on last_session_creation_time NaNs"
   ]
  },
  {
   "cell_type": "code",
   "execution_count": 195,
   "metadata": {
    "collapsed": false
   },
   "outputs": [
    {
     "name": "stderr",
     "output_type": "stream",
     "text": [
      "C:\\Users\\Nachiket\\Anaconda3\\lib\\site-packages\\pandas\\core\\indexing.py:179: SettingWithCopyWarning: \n",
      "A value is trying to be set on a copy of a slice from a DataFrame\n",
      "\n",
      "See the caveats in the documentation: http://pandas.pydata.org/pandas-docs/stable/indexing.html#indexing-view-versus-copy\n",
      "  self._setitem_with_indexer(indexer, value)\n"
     ]
    }
   ],
   "source": [
    "udf['last_session_binary'] = 1\n",
    "udf['last_session_binary'].loc[udf.last_session_creation_time.isnull()] = 0"
   ]
  },
  {
   "cell_type": "markdown",
   "metadata": {},
   "source": [
    "### Account Age based on creation time and last session creation time"
   ]
  },
  {
   "cell_type": "code",
   "execution_count": 196,
   "metadata": {
    "collapsed": false,
    "scrolled": true
   },
   "outputs": [
    {
     "name": "stderr",
     "output_type": "stream",
     "text": [
      "C:\\Users\\Nachiket\\Anaconda3\\lib\\site-packages\\pandas\\core\\indexing.py:179: SettingWithCopyWarning: \n",
      "A value is trying to be set on a copy of a slice from a DataFrame\n",
      "\n",
      "See the caveats in the documentation: http://pandas.pydata.org/pandas-docs/stable/indexing.html#indexing-view-versus-copy\n",
      "  self._setitem_with_indexer(indexer, value)\n"
     ]
    }
   ],
   "source": [
    "udf['account_age'] = udf['creation_time'] - udf['last_session_creation_time']\n",
    "udf['account_age'].loc[udf.account_age.isnull()] = 0\n",
    "udf['account_age'] = udf['account_age'].dt.total_seconds()"
   ]
  },
  {
   "cell_type": "markdown",
   "metadata": {},
   "source": [
    "### Binary Class Based on invited by user id"
   ]
  },
  {
   "cell_type": "code",
   "execution_count": 197,
   "metadata": {
    "collapsed": false
   },
   "outputs": [
    {
     "name": "stderr",
     "output_type": "stream",
     "text": [
      "C:\\Users\\Nachiket\\Anaconda3\\lib\\site-packages\\pandas\\core\\indexing.py:179: SettingWithCopyWarning: \n",
      "A value is trying to be set on a copy of a slice from a DataFrame\n",
      "\n",
      "See the caveats in the documentation: http://pandas.pydata.org/pandas-docs/stable/indexing.html#indexing-view-versus-copy\n",
      "  self._setitem_with_indexer(indexer, value)\n"
     ]
    }
   ],
   "source": [
    "udf['invitation'] = 1\n",
    "udf['invitation'].loc[udf.invited_by_user_id == 0] = 0"
   ]
  },
  {
   "cell_type": "markdown",
   "metadata": {},
   "source": [
    "## Name and Email into their length"
   ]
  },
  {
   "cell_type": "code",
   "execution_count": 198,
   "metadata": {
    "collapsed": false
   },
   "outputs": [],
   "source": [
    "udf['namelen'] = udf['name'].apply(lambda x: len(x))\n",
    "udf['emaillen'] = udf['email'].apply(lambda x: len(x))"
   ]
  },
  {
   "cell_type": "markdown",
   "metadata": {},
   "source": [
    "### Encode creation_source"
   ]
  },
  {
   "cell_type": "code",
   "execution_count": 199,
   "metadata": {
    "collapsed": true
   },
   "outputs": [],
   "source": [
    "from sklearn.preprocessing import LabelEncoder\n",
    "\n",
    "le = LabelEncoder()\n",
    "udf['creation_source'] = le.fit_transform(udf['creation_source'])"
   ]
  },
  {
   "cell_type": "code",
   "execution_count": 200,
   "metadata": {
    "collapsed": false
   },
   "outputs": [
    {
     "data": {
      "text/html": [
       "<div>\n",
       "<style>\n",
       "    .dataframe thead tr:only-child th {\n",
       "        text-align: right;\n",
       "    }\n",
       "\n",
       "    .dataframe thead th {\n",
       "        text-align: left;\n",
       "    }\n",
       "\n",
       "    .dataframe tbody tr th {\n",
       "        vertical-align: top;\n",
       "    }\n",
       "</style>\n",
       "<table border=\"1\" class=\"dataframe\">\n",
       "  <thead>\n",
       "    <tr style=\"text-align: right;\">\n",
       "      <th></th>\n",
       "      <th>creation_source</th>\n",
       "      <th>opted_in_to_mailing_list</th>\n",
       "      <th>enabled_for_marketing_drip</th>\n",
       "      <th>org_id</th>\n",
       "      <th>invited_by_user_id</th>\n",
       "      <th>Adopted</th>\n",
       "      <th>last_session_binary</th>\n",
       "      <th>account_age</th>\n",
       "      <th>invitation</th>\n",
       "      <th>namelen</th>\n",
       "      <th>emaillen</th>\n",
       "    </tr>\n",
       "  </thead>\n",
       "  <tbody>\n",
       "    <tr>\n",
       "      <th>0</th>\n",
       "      <td>0</td>\n",
       "      <td>1</td>\n",
       "      <td>0</td>\n",
       "      <td>11</td>\n",
       "      <td>10803.0</td>\n",
       "      <td>0</td>\n",
       "      <td>1</td>\n",
       "      <td>1.397</td>\n",
       "      <td>1</td>\n",
       "      <td>14</td>\n",
       "      <td>24</td>\n",
       "    </tr>\n",
       "    <tr>\n",
       "      <th>1</th>\n",
       "      <td>1</td>\n",
       "      <td>0</td>\n",
       "      <td>0</td>\n",
       "      <td>1</td>\n",
       "      <td>316.0</td>\n",
       "      <td>1</td>\n",
       "      <td>1</td>\n",
       "      <td>1.383</td>\n",
       "      <td>1</td>\n",
       "      <td>13</td>\n",
       "      <td>22</td>\n",
       "    </tr>\n",
       "    <tr>\n",
       "      <th>2</th>\n",
       "      <td>1</td>\n",
       "      <td>0</td>\n",
       "      <td>0</td>\n",
       "      <td>94</td>\n",
       "      <td>1525.0</td>\n",
       "      <td>0</td>\n",
       "      <td>1</td>\n",
       "      <td>1.362</td>\n",
       "      <td>1</td>\n",
       "      <td>17</td>\n",
       "      <td>26</td>\n",
       "    </tr>\n",
       "    <tr>\n",
       "      <th>3</th>\n",
       "      <td>0</td>\n",
       "      <td>0</td>\n",
       "      <td>0</td>\n",
       "      <td>1</td>\n",
       "      <td>5151.0</td>\n",
       "      <td>0</td>\n",
       "      <td>1</td>\n",
       "      <td>1.368</td>\n",
       "      <td>1</td>\n",
       "      <td>15</td>\n",
       "      <td>25</td>\n",
       "    </tr>\n",
       "    <tr>\n",
       "      <th>4</th>\n",
       "      <td>0</td>\n",
       "      <td>0</td>\n",
       "      <td>0</td>\n",
       "      <td>193</td>\n",
       "      <td>5240.0</td>\n",
       "      <td>0</td>\n",
       "      <td>1</td>\n",
       "      <td>1.357</td>\n",
       "      <td>1</td>\n",
       "      <td>9</td>\n",
       "      <td>18</td>\n",
       "    </tr>\n",
       "  </tbody>\n",
       "</table>\n",
       "</div>"
      ],
      "text/plain": [
       "   creation_source  opted_in_to_mailing_list  enabled_for_marketing_drip  \\\n",
       "0                0                         1                           0   \n",
       "1                1                         0                           0   \n",
       "2                1                         0                           0   \n",
       "3                0                         0                           0   \n",
       "4                0                         0                           0   \n",
       "\n",
       "   org_id  invited_by_user_id  Adopted  last_session_binary  account_age  \\\n",
       "0      11             10803.0        0                    1        1.397   \n",
       "1       1               316.0        1                    1        1.383   \n",
       "2      94              1525.0        0                    1        1.362   \n",
       "3       1              5151.0        0                    1        1.368   \n",
       "4     193              5240.0        0                    1        1.357   \n",
       "\n",
       "   invitation  namelen  emaillen  \n",
       "0           1       14        24  \n",
       "1           1       13        22  \n",
       "2           1       17        26  \n",
       "3           1       15        25  \n",
       "4           1        9        18  "
      ]
     },
     "execution_count": 200,
     "metadata": {},
     "output_type": "execute_result"
    }
   ],
   "source": [
    "# Removing timestamps, strings\n",
    "udf = udf.drop(['creation_time','last_session_creation_time','name','email','object_id'],axis=1)\n",
    "udf['account_age'] = round(udf['account_age']/1000000000, 3)\n",
    "udf.head()"
   ]
  },
  {
   "cell_type": "code",
   "execution_count": 201,
   "metadata": {
    "collapsed": false
   },
   "outputs": [
    {
     "data": {
      "text/plain": [
       "12000"
      ]
     },
     "execution_count": 201,
     "metadata": {},
     "output_type": "execute_result"
    }
   ],
   "source": [
    "len(udf['Adopted'].loc[udf['Adopted'].notnull()])"
   ]
  },
  {
   "cell_type": "markdown",
   "metadata": {},
   "source": [
    "## Random Forest"
   ]
  },
  {
   "cell_type": "code",
   "execution_count": 203,
   "metadata": {
    "collapsed": false
   },
   "outputs": [],
   "source": [
    "# Train Test Split\n",
    "from sklearn.model_selection import train_test_split\n",
    "\n",
    "# udf = udf.loc[np.isinf(udf)]\n",
    "\n",
    "features = udf.drop('Adopted',axis=1)\n",
    "# print(\"Contains Null Values -\\n\\n\",np.isnan(features.all())) #and gets True\n",
    "# print(\"Contains Infinite Values -\\n\\n\",np.isinf(features).all()) #and gets True\n",
    "\n",
    "X, Xtest, y, ytest = train_test_split(features, udf['Adopted'],random_state=1,test_size=0.7)"
   ]
  },
  {
   "cell_type": "code",
   "execution_count": 204,
   "metadata": {
    "collapsed": true
   },
   "outputs": [],
   "source": [
    "from sklearn.metrics import classification_report, roc_curve, auc, confusion_matrix, accuracy_score, recall_score\n",
    "import matplotlib.pyplot as plt\n",
    "\n",
    "def roccurve(trainedevaluator,plotting=False,X=X,y=y,Xtest=Xtest,ytest=ytest):\n",
    "        \"\"\" Plots ROC Curve and return area under the curve \"\"\"\n",
    "    \n",
    "        #fit\n",
    "#         trainedevaluator.fit(X,y)\n",
    "        \n",
    "        #Find probabilities\n",
    "        preds = trainedevaluator.predict_proba(Xtest)[:,1]\n",
    "        \n",
    "        #ROC\n",
    "        fpr, tpr, _ = roc_curve(ytest, preds)\n",
    "        \n",
    "        #Area Under the curve\n",
    "        area = auc(fpr,tpr)\n",
    "        \n",
    "        #Plot\n",
    "        if plotting == True:\n",
    "            plt.figure(figsize=(6,6))\n",
    "#            plt.xlim([0,1])\n",
    "#            plt.ylim([0,1])\n",
    "            plt.title(\"ROC\",fontsize=12)\n",
    "            plt.xlabel(\"False Positive Rate\")\n",
    "            plt.ylabel(\"Ttrue Positive Rate\")\n",
    "            plt.plot(fpr,tpr)\n",
    "            plt.plot([0,1],[0,1],'--',alpha=0.5)\n",
    "        \n",
    "        return area\n",
    "    \n",
    "    \n",
    "    \n",
    "def prediction(clf,X=X,y=y,Xtest=Xtest,ytest=ytest):\n",
    "\n",
    "    preds = clf.predict(Xtest)\n",
    "    cm = confusion_matrix(ytest, preds)\n",
    "\n",
    "    print (\"\\nClassification Report on the Training data -\\n\", classification_report(y, clf.predict(X)))\n",
    "\n",
    "    print(\"Accuracy Score =\", accuracy_score(ytest, preds))\n",
    "    print(\"Recall Score = \", recall_score(ytest,preds))\n",
    "\n",
    "    print(\"\\nConfusion Matrix -\\n\",cm)\n",
    "    print(\"\\nClassification Report -\\n\",classification_report(ytest, preds))\n",
    "    try:\n",
    "        print(\"Area under the ROC curve = {}\".format(roccurve(clf)))\n",
    "    except AttributeError:\n",
    "        print (\"Cannot draw ROC - predict_proba is not an attribute\")"
   ]
  },
  {
   "cell_type": "markdown",
   "metadata": {},
   "source": [
    "### Prediction"
   ]
  },
  {
   "cell_type": "code",
   "execution_count": 127,
   "metadata": {
    "collapsed": false
   },
   "outputs": [],
   "source": [
    "from sklearn.ensemble import RandomForestClassifier"
   ]
  },
  {
   "cell_type": "code",
   "execution_count": 209,
   "metadata": {
    "collapsed": false
   },
   "outputs": [
    {
     "name": "stdout",
     "output_type": "stream",
     "text": [
      "\n",
      "Classification Report on the Training data -\n",
      "              precision    recall  f1-score   support\n",
      "\n",
      "          0       0.90      1.00      0.95      3150\n",
      "          1       1.00      0.22      0.36       450\n",
      "\n",
      "avg / total       0.91      0.90      0.87      3600\n",
      "\n",
      "Accuracy Score = 0.854642857143\n",
      "Recall Score =  0.00248756218905\n",
      "\n",
      "Confusion Matrix -\n",
      " [[7176   18]\n",
      " [1203    3]]\n",
      "\n",
      "Classification Report -\n",
      "              precision    recall  f1-score   support\n",
      "\n",
      "          0       0.86      1.00      0.92      7194\n",
      "          1       0.14      0.00      0.00      1206\n",
      "\n",
      "avg / total       0.75      0.85      0.79      8400\n",
      "\n",
      "Area under the ROC curve = 0.7184794681029105\n"
     ]
    }
   ],
   "source": [
    "# Initial Run\n",
    "rf = RandomForestClassifier(n_estimators=100, min_samples_split=10)\n",
    "rf.fit(X,y)\n",
    "\n",
    "prediction(rf)"
   ]
  },
  {
   "cell_type": "markdown",
   "metadata": {},
   "source": [
    "### The Data is imbalanced. Let's try to improve our data for better predictions\n",
    "\n",
    "Let's start by modifying RandomForestClassifier with an extra parameter class_weight='balanced' or 'balanced_subsample'"
   ]
  },
  {
   "cell_type": "code",
   "execution_count": 222,
   "metadata": {
    "collapsed": false
   },
   "outputs": [
    {
     "name": "stdout",
     "output_type": "stream",
     "text": [
      "\n",
      "Classification Report on the Training data -\n",
      "              precision    recall  f1-score   support\n",
      "\n",
      "          0       0.99      0.77      0.87      3150\n",
      "          1       0.37      0.95      0.53       450\n",
      "\n",
      "avg / total       0.91      0.79      0.82      3600\n",
      "\n",
      "Accuracy Score = 0.675833333333\n",
      "Recall Score =  0.601160862355\n",
      "\n",
      "Confusion Matrix -\n",
      " [[4952 2242]\n",
      " [ 481  725]]\n",
      "\n",
      "Classification Report -\n",
      "              precision    recall  f1-score   support\n",
      "\n",
      "          0       0.91      0.69      0.78      7194\n",
      "          1       0.24      0.60      0.35      1206\n",
      "\n",
      "avg / total       0.82      0.68      0.72      8400\n",
      "\n",
      "Area under the ROC curve = 0.7320973208279794\n"
     ]
    }
   ],
   "source": [
    "# Initial Run\n",
    "rf = RandomForestClassifier(n_estimators=100, min_samples_split=50,class_weight='balanced' )\n",
    "rf.fit(X,y)\n",
    "\n",
    "prediction(rf)"
   ]
  },
  {
   "cell_type": "markdown",
   "metadata": {},
   "source": [
    "## Using another package - Imbalanced Learn"
   ]
  },
  {
   "cell_type": "code",
   "execution_count": 217,
   "metadata": {
    "collapsed": false
   },
   "outputs": [],
   "source": [
    "from imblearn import over_sampling as os\n",
    "from imblearn import pipeline as pl\n",
    "from imblearn.metrics import classification_report_imbalanced\n",
    "# from imblearn.over_sampling import ADASYN, SMOTE, RandomOverSampler"
   ]
  },
  {
   "cell_type": "code",
   "execution_count": 221,
   "metadata": {
    "collapsed": false
   },
   "outputs": [
    {
     "name": "stdout",
     "output_type": "stream",
     "text": [
      "\n",
      "Classification Report on the Training data -\n",
      "              precision    recall  f1-score   support\n",
      "\n",
      "          0       0.99      0.69      0.81      3150\n",
      "          1       0.30      0.96      0.46       450\n",
      "\n",
      "avg / total       0.90      0.72      0.77      3600\n",
      "\n",
      "Accuracy Score = 0.634642857143\n",
      "Recall Score =  0.696517412935\n",
      "\n",
      "Confusion Matrix -\n",
      " [[4491 2703]\n",
      " [ 366  840]]\n",
      "\n",
      "Classification Report -\n",
      "              precision    recall  f1-score   support\n",
      "\n",
      "          0       0.92      0.62      0.75      7194\n",
      "          1       0.24      0.70      0.35      1206\n",
      "\n",
      "avg / total       0.83      0.63      0.69      8400\n",
      "\n",
      "Area under the ROC curve = 0.7303165965188422\n"
     ]
    }
   ],
   "source": [
    "# Create Pipeline\n",
    "pipeline = pl.make_pipeline(os.RandomOverSampler(), RandomForestClassifier(n_estimators=100, min_samples_split=100))\n",
    "\n",
    "pipeline.fit(X,y)\n",
    "\n",
    "prediction(pipeline)"
   ]
  }
 ],
 "metadata": {
  "kernelspec": {
   "display_name": "Python 3",
   "language": "python",
   "name": "python3"
  },
  "language_info": {
   "codemirror_mode": {
    "name": "ipython",
    "version": 3
   },
   "file_extension": ".py",
   "mimetype": "text/x-python",
   "name": "python",
   "nbconvert_exporter": "python",
   "pygments_lexer": "ipython3",
   "version": "3.6.0"
  }
 },
 "nbformat": 4,
 "nbformat_minor": 2
}
